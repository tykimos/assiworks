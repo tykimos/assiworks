{
  "nbformat": 4,
  "nbformat_minor": 0,
  "metadata": {
    "colab": {
      "provenance": []
    },
    "kernelspec": {
      "name": "python3",
      "display_name": "Python 3"
    },
    "language_info": {
      "name": "python"
    }
  },
  "cells": [
    {
      "cell_type": "code",
      "execution_count": 1,
      "metadata": {
        "colab": {
          "base_uri": "https://localhost:8080/"
        },
        "id": "7AHjwjCmeOjy",
        "outputId": "47146b8e-fcbc-4a11-acf4-d8e64857232a"
      },
      "outputs": [
        {
          "output_type": "stream",
          "name": "stdout",
          "text": [
            "Collecting fastapi\n",
            "  Downloading fastapi-0.115.9-py3-none-any.whl.metadata (27 kB)\n",
            "Collecting uvicorn\n",
            "  Downloading uvicorn-0.34.0-py3-none-any.whl.metadata (6.5 kB)\n",
            "Collecting pyngrok\n",
            "  Downloading pyngrok-7.2.3-py3-none-any.whl.metadata (8.7 kB)\n",
            "Collecting starlette<0.46.0,>=0.40.0 (from fastapi)\n",
            "  Downloading starlette-0.45.3-py3-none-any.whl.metadata (6.3 kB)\n",
            "Requirement already satisfied: pydantic!=1.8,!=1.8.1,!=2.0.0,!=2.0.1,!=2.1.0,<3.0.0,>=1.7.4 in /usr/local/lib/python3.11/dist-packages (from fastapi) (2.10.6)\n",
            "Requirement already satisfied: typing-extensions>=4.8.0 in /usr/local/lib/python3.11/dist-packages (from fastapi) (4.12.2)\n",
            "Requirement already satisfied: click>=7.0 in /usr/local/lib/python3.11/dist-packages (from uvicorn) (8.1.8)\n",
            "Requirement already satisfied: h11>=0.8 in /usr/local/lib/python3.11/dist-packages (from uvicorn) (0.14.0)\n",
            "Requirement already satisfied: PyYAML>=5.1 in /usr/local/lib/python3.11/dist-packages (from pyngrok) (6.0.2)\n",
            "Requirement already satisfied: annotated-types>=0.6.0 in /usr/local/lib/python3.11/dist-packages (from pydantic!=1.8,!=1.8.1,!=2.0.0,!=2.0.1,!=2.1.0,<3.0.0,>=1.7.4->fastapi) (0.7.0)\n",
            "Requirement already satisfied: pydantic-core==2.27.2 in /usr/local/lib/python3.11/dist-packages (from pydantic!=1.8,!=1.8.1,!=2.0.0,!=2.0.1,!=2.1.0,<3.0.0,>=1.7.4->fastapi) (2.27.2)\n",
            "Requirement already satisfied: anyio<5,>=3.6.2 in /usr/local/lib/python3.11/dist-packages (from starlette<0.46.0,>=0.40.0->fastapi) (3.7.1)\n",
            "Requirement already satisfied: idna>=2.8 in /usr/local/lib/python3.11/dist-packages (from anyio<5,>=3.6.2->starlette<0.46.0,>=0.40.0->fastapi) (3.10)\n",
            "Requirement already satisfied: sniffio>=1.1 in /usr/local/lib/python3.11/dist-packages (from anyio<5,>=3.6.2->starlette<0.46.0,>=0.40.0->fastapi) (1.3.1)\n",
            "Downloading fastapi-0.115.9-py3-none-any.whl (94 kB)\n",
            "\u001b[2K   \u001b[90m━━━━━━━━━━━━━━━━━━━━━━━━━━━━━━━━━━━━━━━━\u001b[0m \u001b[32m94.9/94.9 kB\u001b[0m \u001b[31m4.3 MB/s\u001b[0m eta \u001b[36m0:00:00\u001b[0m\n",
            "\u001b[?25hDownloading uvicorn-0.34.0-py3-none-any.whl (62 kB)\n",
            "\u001b[2K   \u001b[90m━━━━━━━━━━━━━━━━━━━━━━━━━━━━━━━━━━━━━━━━\u001b[0m \u001b[32m62.3/62.3 kB\u001b[0m \u001b[31m2.3 MB/s\u001b[0m eta \u001b[36m0:00:00\u001b[0m\n",
            "\u001b[?25hDownloading pyngrok-7.2.3-py3-none-any.whl (23 kB)\n",
            "Downloading starlette-0.45.3-py3-none-any.whl (71 kB)\n",
            "\u001b[2K   \u001b[90m━━━━━━━━━━━━━━━━━━━━━━━━━━━━━━━━━━━━━━━━\u001b[0m \u001b[32m71.5/71.5 kB\u001b[0m \u001b[31m3.6 MB/s\u001b[0m eta \u001b[36m0:00:00\u001b[0m\n",
            "\u001b[?25hInstalling collected packages: uvicorn, pyngrok, starlette, fastapi\n",
            "Successfully installed fastapi-0.115.9 pyngrok-7.2.3 starlette-0.45.3 uvicorn-0.34.0\n"
          ]
        }
      ],
      "source": [
        "# 필요한 라이브러리 설치\n",
        "!pip install fastapi uvicorn pyngrok"
      ]
    },
    {
      "cell_type": "code",
      "source": [
        "import os\n",
        "from google.colab import userdata\n",
        "os.environ[\"NGROK_AUTH_TOKEN\"] = userdata.get('NGROK_AUTH_TOKEN')"
      ],
      "metadata": {
        "id": "dNQxoiU3hWaa"
      },
      "execution_count": 2,
      "outputs": []
    },
    {
      "cell_type": "code",
      "source": [
        "# simple_memory_api.py\n",
        "from fastapi import FastAPI, Request\n",
        "from datetime import datetime\n",
        "import uvicorn\n",
        "import nest_asyncio\n",
        "\n",
        "\n",
        "# nest_asyncio 적용 (Jupyter/Colab에서 기존 이벤트 루프에 중첩 이벤트 루프 허용)\n",
        "nest_asyncio.apply()\n",
        "\n",
        "# FastAPI 앱 생성\n",
        "app = FastAPI(title=\"Memory API\")\n",
        "\n",
        "# 메모리 데이터를 저장할 전역 변수\n",
        "memory_data = {}\n",
        "\n",
        "# 사용자 메모리 조회 (모든 메모리 항목을 한번에 반환)\n",
        "@app.get(\"/memory/{user_id}\")\n",
        "async def get_user_memory(user_id: str):\n",
        "    if user_id not in memory_data:\n",
        "        memory_data[user_id] = {}\n",
        "    return memory_data[user_id]\n",
        "\n",
        "# 메모리 저장 (text/plain 형식으로 데이터 받기)\n",
        "@app.post(\"/memory/{user_id}\")\n",
        "async def save_memory(user_id: str, request: Request):\n",
        "    # 사용자 데이터가 없으면 새로 생성\n",
        "    if user_id not in memory_data:\n",
        "        memory_data[user_id] = {}\n",
        "\n",
        "    # 요청 본문을 문자열로 읽기\n",
        "    text_data = await request.body()\n",
        "    value = text_data.decode(\"utf-8\")\n",
        "\n",
        "    # 현재 시간을 키로 사용하여 메모리에 저장\n",
        "    key = datetime.now().isoformat()\n",
        "\n",
        "    memory_data[user_id][key] = value\n",
        "\n",
        "    return {\"message\": \"정보가 저장되었습니다\", \"data\": memory_data[user_id][key]}\n",
        "\n",
        "# 전체 메모리 삭제\n",
        "@app.delete(\"/memory/{user_id}\")\n",
        "async def clear_memory(user_id: str):\n",
        "    if user_id in memory_data:\n",
        "        deleted_count = len(memory_data[user_id])\n",
        "        memory_data[user_id] = {}\n",
        "        return {\"message\": f\"{deleted_count}개의 메모리 항목이 삭제되었습니다\"}\n",
        "    return {\"message\": \"삭제할 메모리가 없습니다\"}\n",
        "\n",
        "# 메모리 검색 (값에 특정 문자열이 포함된 항목 찾기)\n",
        "@app.get(\"/memory/{user_id}/search/{query}\")\n",
        "async def search_memory(user_id: str, query: str):\n",
        "    if user_id not in memory_data:\n",
        "        return {\"results\": []}\n",
        "\n",
        "    results = []\n",
        "    for key, data in memory_data[user_id].items():\n",
        "        if query.lower() in data.lower():\n",
        "            results.append({\n",
        "                key: data\n",
        "            })\n",
        "\n",
        "    return {\"results\": results}"
      ],
      "metadata": {
        "id": "rEbg4Y7reXBj"
      },
      "execution_count": 24,
      "outputs": []
    },
    {
      "cell_type": "code",
      "source": [
        "from pyngrok import ngrok\n",
        "\n",
        "# ngrok을 사용하여 외부에서 접근 가능한 URL 생성\n",
        "def start_server_with_ngrok():\n",
        "    # ngrok 인증 설정 (ngrok 계정이 있는 경우)\n",
        "    ngrok.set_auth_token(os.environ[\"NGROK_AUTH_TOKEN\"])\n",
        "\n",
        "    # ngrok 터널 생성 (Colab에서 사용할 포트 지정)\n",
        "    port = 8004\n",
        "    ngrok_tunnel = ngrok.connect(port)\n",
        "    public_url = ngrok_tunnel.public_url\n",
        "    print(f\"ngrok 터널이 생성되었습니다: {public_url}\")\n",
        "    print(f\"API 문서는 {public_url}/docs 에서 확인할 수 있습니다\")\n",
        "\n",
        "    # FastAPI 서버 시작 (non-blocking)\n",
        "    config = uvicorn.Config(app, host=\"0.0.0.0\", port=port, log_level=\"info\")\n",
        "    server = uvicorn.Server(config)\n",
        "    try:\n",
        "        # run 대신 serve 메서드 사용\n",
        "        import asyncio\n",
        "        asyncio.get_event_loop().run_until_complete(server.serve())\n",
        "    except:\n",
        "        # 예외가 발생하면 async 방식으로 실행\n",
        "        server.run()"
      ],
      "metadata": {
        "id": "A5BjP8dmepxW"
      },
      "execution_count": 27,
      "outputs": []
    },
    {
      "cell_type": "code",
      "source": [
        "start_server_with_ngrok()"
      ],
      "metadata": {
        "colab": {
          "base_uri": "https://localhost:8080/"
        },
        "id": "H40drsIfh0Ht",
        "outputId": "00c9dd98-e44a-4b8c-c19d-c9405c142a3b"
      },
      "execution_count": null,
      "outputs": [
        {
          "output_type": "stream",
          "name": "stdout",
          "text": [
            "ngrok 터널이 생성되었습니다: https://74e2-35-196-74-124.ngrok-free.app\n",
            "API 문서는 https://74e2-35-196-74-124.ngrok-free.app/docs 에서 확인할 수 있습니다\n"
          ]
        },
        {
          "output_type": "stream",
          "name": "stderr",
          "text": [
            "INFO:     Started server process [648]\n",
            "INFO:     Waiting for application startup.\n",
            "INFO:     Application startup complete.\n",
            "INFO:     Uvicorn running on http://0.0.0.0:8004 (Press CTRL+C to quit)\n"
          ]
        },
        {
          "output_type": "stream",
          "name": "stdout",
          "text": [
            "INFO:     112.158.109.165:0 - \"POST /memory/0 HTTP/1.1\" 200 OK\n",
            "INFO:     112.158.109.165:0 - \"POST /memory/0 HTTP/1.1\" 200 OK\n",
            "INFO:     112.158.109.165:0 - \"GET /0 HTTP/1.1\" 404 Not Found\n",
            "INFO:     112.158.109.165:0 - \"GET /memory/0 HTTP/1.1\" 200 OK\n",
            "INFO:     112.158.109.165:0 - \"POST /memory/0 HTTP/1.1\" 200 OK\n",
            "INFO:     112.158.109.165:0 - \"POST /memory/0 HTTP/1.1\" 200 OK\n",
            "INFO:     112.158.109.165:0 - \"POST /memory/0 HTTP/1.1\" 200 OK\n",
            "INFO:     112.158.109.165:0 - \"GET /memory/0 HTTP/1.1\" 200 OK\n",
            "INFO:     112.158.109.165:0 - \"GET /memory/0 HTTP/1.1\" 200 OK\n",
            "INFO:     112.158.109.165:0 - \"POST /memory/0 HTTP/1.1\" 200 OK\n",
            "INFO:     112.158.109.165:0 - \"POST /memory/0 HTTP/1.1\" 200 OK\n",
            "INFO:     112.158.109.165:0 - \"POST /memory/0 HTTP/1.1\" 200 OK\n",
            "INFO:     112.158.109.165:0 - \"GET /memory/0 HTTP/1.1\" 200 OK\n",
            "INFO:     112.158.109.165:0 - \"GET /memory/0 HTTP/1.1\" 200 OK\n",
            "INFO:     112.158.109.165:0 - \"GET /memory/0/search/%EC%83%9D%EC%9D%BC HTTP/1.1\" 200 OK\n",
            "INFO:     112.158.109.165:0 - \"GET /memory/0/search/%EC%B7%A8%EB%AF%B8 HTTP/1.1\" 200 OK\n",
            "INFO:     112.158.109.165:0 - \"GET /memory/0/search/%ED%83%81%EA%B5%AC HTTP/1.1\" 200 OK\n",
            "INFO:     112.158.109.165:0 - \"GET /memory/0/search/%EC%A2%8B%EC%95%84 HTTP/1.1\" 200 OK\n",
            "INFO:     112.158.109.165:0 - \"GET /memory/0 HTTP/1.1\" 200 OK\n",
            "INFO:     112.158.109.165:0 - \"GET /memory/0/search/ HTTP/1.1\" 404 Not Found\n",
            "INFO:     112.158.109.165:0 - \"GET /memory/0 HTTP/1.1\" 200 OK\n",
            "INFO:     112.158.109.165:0 - \"GET /memory/0 HTTP/1.1\" 200 OK\n",
            "INFO:     112.158.109.165:0 - \"GET /memory/0/search/ HTTP/1.1\" 404 Not Found\n",
            "INFO:     112.158.109.165:0 - \"GET /memory/0 HTTP/1.1\" 200 OK\n",
            "INFO:     112.158.109.165:0 - \"GET /memory/0/search/ HTTP/1.1\" 404 Not Found\n",
            "INFO:     112.158.109.165:0 - \"GET /memory/0 HTTP/1.1\" 200 OK\n",
            "INFO:     112.158.109.165:0 - \"GET /memory/0/search/ HTTP/1.1\" 404 Not Found\n",
            "INFO:     112.158.109.165:0 - \"GET /memory/0 HTTP/1.1\" 200 OK\n",
            "INFO:     112.158.109.165:0 - \"GET /memory/0 HTTP/1.1\" 200 OK\n",
            "INFO:     112.158.109.165:0 - \"GET /memory/0/search/%EC%83%9D%EC%9D%BC HTTP/1.1\" 200 OK\n",
            "INFO:     112.158.109.165:0 - \"GET /memory/0/search/%EC%9D%B4%EB%A6%84 HTTP/1.1\" 200 OK\n",
            "INFO:     112.158.109.165:0 - \"GET /memory/0/search/%EC%B7%A8%EB%AF%B8 HTTP/1.1\" 200 OK\n",
            "INFO:     112.158.109.165:0 - \"GET /memory/0 HTTP/1.1\" 200 OK\n"
          ]
        }
      ]
    },
    {
      "cell_type": "code",
      "source": [],
      "metadata": {
        "id": "syFmPe2ceuXk"
      },
      "execution_count": null,
      "outputs": []
    }
  ]
}